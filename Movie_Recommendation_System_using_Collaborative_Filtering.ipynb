{
  "nbformat": 4,
  "nbformat_minor": 0,
  "metadata": {
    "colab": {
      "provenance": [],
      "authorship_tag": "ABX9TyM1kO1FAFyXPzQtqqlbeKRP",
      "include_colab_link": true
    },
    "kernelspec": {
      "name": "python3",
      "display_name": "Python 3"
    },
    "language_info": {
      "name": "python"
    }
  },
  "cells": [
    {
      "cell_type": "markdown",
      "metadata": {
        "id": "view-in-github",
        "colab_type": "text"
      },
      "source": [
        "<a href=\"https://colab.research.google.com/github/snigdha6106/FMML_Projects_and_Labs/blob/main/Movie_Recommendation_System_using_Collaborative_Filtering.ipynb\" target=\"_parent\"><img src=\"https://colab.research.google.com/assets/colab-badge.svg\" alt=\"Open In Colab\"/></a>"
      ]
    },
    {
      "cell_type": "code",
      "execution_count": 1,
      "metadata": {
        "colab": {
          "base_uri": "https://localhost:8080/"
        },
        "id": "xW8RQVrXASP_",
        "outputId": "63aadc05-23d3-4064-d37e-ae48f0b34145"
      },
      "outputs": [
        {
          "output_type": "stream",
          "name": "stdout",
          "text": [
            "Collecting surprise\n",
            "  Downloading surprise-0.1-py2.py3-none-any.whl.metadata (327 bytes)\n",
            "Collecting scikit-surprise (from surprise)\n",
            "  Downloading scikit_surprise-1.1.4.tar.gz (154 kB)\n",
            "\u001b[?25l     \u001b[90m━━━━━━━━━━━━━━━━━━━━━━━━━━━━━━━━━━━━━━━━\u001b[0m \u001b[32m0.0/154.4 kB\u001b[0m \u001b[31m?\u001b[0m eta \u001b[36m-:--:--\u001b[0m\r\u001b[2K     \u001b[91m━━━━━━━━━━━━━━━━━━━━━━━━━━━━━━━━━━━━━━━\u001b[0m\u001b[91m╸\u001b[0m \u001b[32m153.6/154.4 kB\u001b[0m \u001b[31m5.3 MB/s\u001b[0m eta \u001b[36m0:00:01\u001b[0m\r\u001b[2K     \u001b[90m━━━━━━━━━━━━━━━━━━━━━━━━━━━━━━━━━━━━━━━━\u001b[0m \u001b[32m154.4/154.4 kB\u001b[0m \u001b[31m3.2 MB/s\u001b[0m eta \u001b[36m0:00:00\u001b[0m\n",
            "\u001b[?25h  Installing build dependencies ... \u001b[?25l\u001b[?25hdone\n",
            "  Getting requirements to build wheel ... \u001b[?25l\u001b[?25hdone\n",
            "  Preparing metadata (pyproject.toml) ... \u001b[?25l\u001b[?25hdone\n",
            "Requirement already satisfied: joblib>=1.2.0 in /usr/local/lib/python3.11/dist-packages (from scikit-surprise->surprise) (1.4.2)\n",
            "Requirement already satisfied: numpy>=1.19.5 in /usr/local/lib/python3.11/dist-packages (from scikit-surprise->surprise) (1.26.4)\n",
            "Requirement already satisfied: scipy>=1.6.0 in /usr/local/lib/python3.11/dist-packages (from scikit-surprise->surprise) (1.13.1)\n",
            "Downloading surprise-0.1-py2.py3-none-any.whl (1.8 kB)\n",
            "Building wheels for collected packages: scikit-surprise\n",
            "  Building wheel for scikit-surprise (pyproject.toml) ... \u001b[?25l\u001b[?25hdone\n",
            "  Created wheel for scikit-surprise: filename=scikit_surprise-1.1.4-cp311-cp311-linux_x86_64.whl size=2505169 sha256=c43d625931b545f0a93531c6d70a24027c428c85a350efed23009b04546f1f55\n",
            "  Stored in directory: /root/.cache/pip/wheels/2a/8f/6e/7e2899163e2d85d8266daab4aa1cdabec7a6c56f83c015b5af\n",
            "Successfully built scikit-surprise\n",
            "Installing collected packages: scikit-surprise, surprise\n",
            "Successfully installed scikit-surprise-1.1.4 surprise-0.1\n",
            "--2025-03-06 15:12:34--  https://files.grouplens.org/datasets/movielens/ml-latest-small.zip\n",
            "Resolving files.grouplens.org (files.grouplens.org)... 128.101.65.152\n",
            "Connecting to files.grouplens.org (files.grouplens.org)|128.101.65.152|:443... connected.\n",
            "HTTP request sent, awaiting response... 200 OK\n",
            "Length: 978202 (955K) [application/zip]\n",
            "Saving to: ‘ml-latest-small.zip’\n",
            "\n",
            "ml-latest-small.zip 100%[===================>] 955.28K  5.42MB/s    in 0.2s    \n",
            "\n",
            "2025-03-06 15:12:34 (5.42 MB/s) - ‘ml-latest-small.zip’ saved [978202/978202]\n",
            "\n",
            "Archive:  ml-latest-small.zip\n",
            "   creating: ml-latest-small/\n",
            "  inflating: ml-latest-small/links.csv  \n",
            "  inflating: ml-latest-small/tags.csv  \n",
            "  inflating: ml-latest-small/ratings.csv  \n",
            "  inflating: ml-latest-small/README.txt  \n",
            "  inflating: ml-latest-small/movies.csv  \n",
            "Ratings Data Sample:\n",
            "   userId  movieId  rating  timestamp\n",
            "0       1        1     4.0  964982703\n",
            "1       1        3     4.0  964981247\n",
            "2       1        6     4.0  964982224\n",
            "3       1       47     5.0  964983815\n",
            "4       1       50     5.0  964982931\n",
            "RMSE: 0.8754\n",
            "\n",
            "Top 10 Movie Recommendations for User 1:\n",
            "\n",
            "Taxi Driver (1976) - Predicted Rating: 5.00\n",
            "Shawshank Redemption, The (1994) - Predicted Rating: 5.00\n",
            "Godfather, The (1972) - Predicted Rating: 5.00\n",
            "Sunset Blvd. (a.k.a. Sunset Boulevard) (1950) - Predicted Rating: 5.00\n",
            "2001: A Space Odyssey (1968) - Predicted Rating: 5.00\n",
            "Wallace & Gromit: The Wrong Trousers (1993) - Predicted Rating: 5.00\n",
            "Lawrence of Arabia (1962) - Predicted Rating: 5.00\n",
            "Raging Bull (1980) - Predicted Rating: 5.00\n",
            "Boot, Das (Boat, The) (1981) - Predicted Rating: 5.00\n",
            "Miller's Crossing (1990) - Predicted Rating: 5.00\n"
          ]
        }
      ],
      "source": [
        "!pip install surprise\n",
        "\n",
        "import pandas as pd\n",
        "import numpy as np\n",
        "from surprise import Dataset, Reader, SVD\n",
        "from surprise.model_selection import train_test_split\n",
        "from surprise import accuracy\n",
        "\n",
        "url = \"https://files.grouplens.org/datasets/movielens/ml-latest-small.zip\"\n",
        "!wget {url} -O ml-latest-small.zip\n",
        "!unzip -o ml-latest-small.zip\n",
        "\n",
        "ratings = pd.read_csv('ml-latest-small/ratings.csv')\n",
        "print(\"Ratings Data Sample:\")\n",
        "print(ratings.head())\n",
        "\n",
        "reader = Reader(rating_scale=(0.5, 5.0))\n",
        "data = Dataset.load_from_df(ratings[['userId', 'movieId', 'rating']], reader)\n",
        "\n",
        "trainset, testset = train_test_split(data, test_size=0.2)\n",
        "\n",
        "model = SVD()\n",
        "model.fit(trainset)\n",
        "\n",
        "predictions = model.test(testset)\n",
        "accuracy.rmse(predictions)\n",
        "\n",
        "movies = pd.read_csv('ml-latest-small/movies.csv')\n",
        "\n",
        "def get_top_movie_recommendations(user_id, model, data, movies, num_recommendations=10):\n",
        "    all_movie_ids = set(movies['movieId'].unique())\n",
        "\n",
        "    user_rated_movies = ratings[ratings['userId'] == user_id]['movieId']\n",
        "    user_unrated_movies = all_movie_ids - set(user_rated_movies)\n",
        "\n",
        "    predictions = [model.predict(user_id, movie_id) for movie_id in user_unrated_movies]\n",
        "\n",
        "    predictions.sort(key=lambda x: x.est, reverse=True)\n",
        "\n",
        "    top_recommendations = predictions[:num_recommendations]\n",
        "\n",
        "    print(f\"\\nTop {num_recommendations} Movie Recommendations for User {user_id}:\\n\")\n",
        "    for rec in top_recommendations:\n",
        "        movie_title = movies[movies['movieId'] == rec.iid]['title'].values[0]\n",
        "        print(f\"{movie_title} - Predicted Rating: {rec.est:.2f}\")\n",
        "\n",
        "get_top_movie_recommendations(1, model, data, movies)\n"
      ]
    }
  ]
}